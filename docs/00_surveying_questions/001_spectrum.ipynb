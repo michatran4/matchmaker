{
 "cells": [
  {
   "cell_type": "markdown",
   "source": [
    "# Spectrum Analysis\r\n",
    "Answers will be laid out on a spectrum, and this will allow for some easy math. This approach works because if a question has only two choices, then it implies that the two choices are polar opposites of each other. This will be perfectly represented with a large difference of 1 between adjacent choices. However, a question with one hundred choices will have less of an impact, as differences between adjacent choices will only be 0.01."
   ],
   "metadata": {}
  },
  {
   "cell_type": "markdown",
   "source": [
    "## Q/A Formatting\r\n",
    "Questions and answers will be formatted like the following example:\r\n",
    "\r\n",
    "    What animal do you like as a pet?\r\n",
    "    Cats | Birds | Dogs\r\n",
    "\r\n",
    "Vertical bars will act as delimiters."
   ],
   "metadata": {}
  },
  {
   "cell_type": "markdown",
   "source": [
    "## Creating an interface\r\n",
    "Vanilla javascript and html should allow for dragging and dropping answers into a spectrum. These answers will be exported and follow the same format as defined above."
   ],
   "metadata": {}
  }
 ],
 "metadata": {
  "orig_nbformat": 4,
  "language_info": {
   "name": "plaintext"
  }
 },
 "nbformat": 4,
 "nbformat_minor": 2
}