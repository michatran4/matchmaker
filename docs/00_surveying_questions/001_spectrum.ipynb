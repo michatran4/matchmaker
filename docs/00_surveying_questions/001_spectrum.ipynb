{
 "cells": [
  {
   "cell_type": "markdown",
   "source": [
    "# Spectrum Analysis\r\n",
    "Answers will be laid out on a spectrum, and this will allow for some easy math. This approach works because if a question has only two choices, then it implies that the two choices are polar opposites of each other. This will be perfectly represented with a large difference of 1 between adjacent choices. However, a question with one hundred choices will have less of an impact, as differences between adjacent choices will only be 0.01."
   ],
   "metadata": {}
  },
  {
   "cell_type": "markdown",
   "source": [
    "## Q/A Formatting\r\n",
    "Questions and answers will be formatted like the following example:\r\n",
    "\r\n",
    "    What animal do you like as a pet?\r\n",
    "    Cats | Birds | Dogs\r\n",
    "\r\n",
    "Vertical bars will act as delimiters. Answers will be loaded from this format, and proposed answers will be submitted in this format. Ultimately, I will gather data from all the spectrums and create the most appropriate one."
   ],
   "metadata": {}
  },
  {
   "cell_type": "markdown",
   "source": [
    "## Creating an interface\r\n",
    "Vanilla javascript and html should allow for dragging and dropping answers into a row."
   ],
   "metadata": {}
  },
  {
   "cell_type": "code",
   "execution_count": null,
   "source": [
    "// Create answers.\r\n",
    "const answers = document.querySelectorAll('.answer')\r\n",
    "const spectrum = document.querySelector('.spectrum')\r\n",
    "const answer_box = document.querySelector('#answer-box')\r\n",
    "const create_answer = document.querySelector(\"#addAnswer\")\r\n",
    "\r\n",
    "function createAnswer(value) {\r\n",
    "    if (value == null) { // for the submit button; no provided value. just an onClick.\r\n",
    "        // However, this will be reused for loading up answers, too.\r\n",
    "        value = answer_box.value;\r\n",
    "    }\r\n",
    "    const answer = document.createElement('p');\r\n",
    "    answer.classList.add('answer');\r\n",
    "    answer.innerHTML = value;\r\n",
    "    answer.draggable = true;\r\n",
    "    answer.addEventListener('dragstart', () => {\r\n",
    "        answer.classList.add('dragging')\r\n",
    "    })\r\n",
    "    answer.addEventListener('dragend', () => {\r\n",
    "        answer.classList.remove('dragging')\r\n",
    "    })\r\n",
    "    spectrum.append(answer);\r\n",
    "}"
   ],
   "outputs": [],
   "metadata": {}
  },
  {
   "cell_type": "code",
   "execution_count": null,
   "source": [
    "<!DOCTYPE html>\r\n",
    "<html>\r\n",
    "    <head>\r\n",
    "        <title>Question Maker</title>\r\n",
    "        <link rel=\"stylesheet\" href=\"style.css\">\r\n",
    "        <script src=\"./answers.js\" defer></script>\r\n",
    "        <script src=\"./submit.js\" defer></script>\r\n",
    "    </head>\r\n",
    "    <body>\r\n",
    "        <span>\r\n",
    "            <h1>Question Maker</h1>\r\n",
    "        </span>\r\n",
    "        <label for=\"question\">Question:</label>\r\n",
    "        <input type=\"text\" id=\"question\" name=\"question\"><br><br>\r\n",
    "        \r\n",
    "        <div class=\"spectrum\" style=\"display:flex\"></div> <!-- columns -->\r\n",
    "\r\n",
    "        <label for=\"answer-box\">Add answer:</label>\r\n",
    "        <input type=\"text\" id=\"answer-box\" name=\"answer-box\">\r\n",
    "        <input type=\"submit\" id=\"addAnswer\" value=\"Add Answer\" onclick=\"createAnswer()\"><br><br>\r\n",
    "        <input type=\"submit\" id=\"submit\" value=\"Submit\" onclick=\"submitAnswers()\">\r\n",
    "    </body>\r\n",
    "</html>"
   ],
   "outputs": [],
   "metadata": {}
  },
  {
   "cell_type": "markdown",
   "source": [
    "Submitting answers just combines the questions and answers together with a newline. The javascript already sorts the answers, so they are all looped through in order."
   ],
   "metadata": {}
  },
  {
   "cell_type": "code",
   "execution_count": null,
   "source": [
    "const submitAnswers = () => {\r\n",
    "    const question = document.querySelector(\"#question\");\r\n",
    "    if (question.value == \"\") {\r\n",
    "        return alert(\"You must provide a question.\");\r\n",
    "    }\r\n",
    "    const answers = document.querySelectorAll(\".answer\");\r\n",
    "    if (answers.length < 2) {\r\n",
    "        return alert(\"You must provide at least 2 answers.\");\r\n",
    "    }\r\n",
    "    let answer_output = \"\";\r\n",
    "    answers.forEach(answer => { // concatenate all answers with a delimiter\r\n",
    "        answer_output += answer.innerHTML + \" | \";\r\n",
    "    })\r\n",
    "    let output = document.querySelector(\"#question\").value\r\n",
    "        + \"\\n\"\r\n",
    "        + answer_output.substring(0, answer_output.length - 3);\r\n",
    "    alert(\"Successfully submitted your proposed answers!\")\r\n",
    "    console.log(output);\r\n",
    "}"
   ],
   "outputs": [],
   "metadata": {}
  }
 ],
 "metadata": {
  "orig_nbformat": 4,
  "language_info": {
   "name": "plaintext"
  }
 },
 "nbformat": 4,
 "nbformat_minor": 2
}