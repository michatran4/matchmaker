{
 "cells": [
  {
   "cell_type": "markdown",
   "source": [
    "# Spectrum Analysis\r\n",
    "Answers will be laid out on a spectrum, and this will allow for some easy math. This approach works because if a question has only two choices, then it implies that the two choices are polar opposites of each other. This will be perfectly represented with a large difference of 1 between adjacent choices. However, a question with one hundred choices will have less of an impact, as differences between adjacent choices will only be 0.01."
   ],
   "metadata": {}
  },
  {
   "cell_type": "markdown",
   "source": [
    "## Q/A Formatting\r\n",
    "Questions and answers will be formatted like the following example:\r\n",
    "\r\n",
    "    What animal do you like as a pet?\r\n",
    "    Cats | Birds | Dogs\r\n",
    "\r\n",
    "Vertical bars will act as delimiters. Answers will be loaded from this format, and proposed answers will be submitted in this format. Ultimately, I will gather data from all the spectrums and create the most appropriate one."
   ],
   "metadata": {}
  },
  {
   "cell_type": "markdown",
   "source": [
    "## Creating an interface for surveying content\r\n",
    "Vanilla javascript and html should allow for dragging and dropping answers into a row. This interface will allow for ease of creating survey questions. Collecting answers will be done before the matchmaking is open to everyone.\r\n",
    "\r\n",
    "Submitting answers just combines the questions and answers together with a newline. Javascript already sorts the answers, so they are all looped through in order."
   ],
   "metadata": {}
  },
  {
   "cell_type": "markdown",
   "source": [
    "## Revising survey content\r\n",
    "Questions should be revised after they are made. This is done by providing the same question maker, except with a populated form; the question will be pre-filled and there will already be answers ready. This allows for adding of answers and possible revision of the question."
   ],
   "metadata": {}
  }
 ],
 "metadata": {
  "orig_nbformat": 4,
  "language_info": {
   "name": "plaintext"
  }
 },
 "nbformat": 4,
 "nbformat_minor": 2
}