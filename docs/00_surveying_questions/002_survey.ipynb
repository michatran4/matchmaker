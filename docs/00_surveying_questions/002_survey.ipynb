{
 "cells": [
  {
   "cell_type": "markdown",
   "source": [
    "# Answering survey questions\r\n",
    "Proposed spectrums will be compared and I will ultimately decide upon the best one for people to answer to."
   ],
   "metadata": {}
  },
  {
   "cell_type": "markdown",
   "source": [
    "## Loading questions\r\n",
    "As stated, this is the format:\r\n",
    "\r\n",
    "    What animal do you like as a pet?\r\n",
    "    Cats | Birds | Dogs\r\n",
    "\r\n",
    "A simple html form will load up these sets of data and have users click their answer."
   ],
   "metadata": {}
  },
  {
   "cell_type": "markdown",
   "source": [
    "## Output of answers\r\n",
    "Questions will be in the same order for every person. Additionally, the survey will be final revision before it is released. This could simply return a list of numbers.\r\n",
    "\r\n",
    "Each answer will have an index, and commas will separate the chosen answer to all questions.\r\n",
    "\r\n",
    "TODO: Send data to a server."
   ],
   "metadata": {}
  }
 ],
 "metadata": {
  "orig_nbformat": 4,
  "language_info": {
   "name": "plaintext"
  }
 },
 "nbformat": 4,
 "nbformat_minor": 2
}