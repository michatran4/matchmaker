{
 "cells": [
  {
   "cell_type": "markdown",
   "source": [
    "# Outline\r\n",
    "This outlines the features that matchmaker-tm will have."
   ],
   "metadata": {}
  },
  {
   "cell_type": "markdown",
   "source": [
    "## Gathering questions\r\n",
    "People will be matched based on their responses to high quality questions. These questions should have at least two answers that can be distinctive of preferences."
   ],
   "metadata": {}
  },
  {
   "cell_type": "markdown",
   "source": [
    "## Gathering answers\r\n",
    "Answers should be sorted on a spectrum. Those that choose the most left answer should be very incompatible with those that choose the most right answer. This could be subjective, so I will have this spectrum crowdsourced. Users that participate in answering questions should provide their own question and answers."
   ],
   "metadata": {}
  },
  {
   "cell_type": "markdown",
   "source": [
    "## Interface\r\n",
    "Representatives will generate a token that will act as the user's login. This token will be used to access the panel where answers will be selected, and where a custom question will be submitted for review to add on to the current list of questions."
   ],
   "metadata": {}
  },
  {
   "cell_type": "markdown",
   "source": [
    "## Computing answers\r\n",
    "After a solid amount of data is collected, each user will have their answers compared against other user's answers. Each answer has a difference from 0 to 1. A larger difference represents incompatibility, and a smaller difference represents compatibility. However, one question isn't indicative of everything, so the averages of the differences are calculated and laid out onto a spreadsheet.\r\n",
    "\r\n",
    "After averages are compiled, preferences will be sorted from the smallest difference to the largest difference. A stable matching algorithm will then be applied to matchmake users."
   ],
   "metadata": {}
  }
 ],
 "metadata": {
  "orig_nbformat": 4,
  "language_info": {
   "name": "plaintext"
  }
 },
 "nbformat": 4,
 "nbformat_minor": 2
}